{
  "nbformat": 4,
  "nbformat_minor": 0,
  "metadata": {
    "colab": {
      "provenance": [],
      "include_colab_link": true
    },
    "kernelspec": {
      "name": "python3",
      "display_name": "Python 3"
    },
    "language_info": {
      "name": "python"
    }
  },
  "cells": [
    {
      "cell_type": "markdown",
      "metadata": {
        "id": "view-in-github",
        "colab_type": "text"
      },
      "source": [
        "<a href=\"https://colab.research.google.com/github/Deri-Nugroho/contoh-soal-pemrograman-on-site-Ekshibisi-AI/blob/main/Contoh_Soal_Pemrograman_1_Eksebisi_AI_2025.ipynb\" target=\"_parent\"><img src=\"https://colab.research.google.com/assets/colab-badge.svg\" alt=\"Open In Colab\"/></a>"
      ]
    },
    {
      "cell_type": "markdown",
      "source": [
        "Pak Andi memelihara lebah-lebah yang cukup banyak. Para lebah telah membangun sebanyak $N=150$ sarang lebah yang tersebar di pekarangan Pak Andi. Posisi setiap sarang dapat dinyatakan sebagai sebuah koordinat $(x,y)$ dalam bidang 2-dimensi.\n",
        "\n",
        "Untuk memberi makan semua lebahnya, pak Andi akan membangun sebanyak $K=3$ tempat makan. Tempat makan ini akan diletakkan di pekarangan tersebut, sedemikian rupa sehingga **total jarak** dari semua sarang ke tempat makan terdekat adalah **sekecil mungkin**, sehingga para lebah yang akan makan tidak perlu terbang terlalu jauh. Pak Andi meminta Anda untuk membantunya mencari posisi bagi ketiga tempat makan yang akan dibangunnya."
      ],
      "metadata": {
        "id": "6ng6hi8wn6Fj"
      }
    },
    {
      "cell_type": "code",
      "source": [
        "# Lokasi semua sarang diberikan pada file CSV berikut.\n",
        "# Jalankan cell ini, kemudian unggah file 'kmeans_data.csv' yang diberikan\n",
        "# di https://drive.google.com/file/d/1sk2rs2_SE0GB_vqJPQmNaYUlcbjHeDbZ/view?usp=sharing\n",
        "# untuk mendapatkan posisi semua sarang dalam matriks 'data'\n",
        "# JANGAN UBAH ISI CELL INI!\n",
        "\n",
        "from google.colab import files\n",
        "uploaded = files.upload()\n",
        "\n",
        "data = []\n",
        "with open(next(iter(uploaded))) as f:\n",
        "    next(f)  # skip header\n",
        "    for line in f:\n",
        "        x_str, y_str = line.strip().split(\",\")\n",
        "        data.append([float(x_str), float(y_str)])\n",
        "\n",
        "print(f\"Berhasil membaca {len(data)} data posisi sarang lebah.\")"
      ],
      "metadata": {
        "colab": {
          "base_uri": "https://localhost:8080/",
          "height": 90
        },
        "id": "fQentG8lpWVy",
        "outputId": "51dd70a2-1efb-42ac-bc00-321bc61a8348"
      },
      "execution_count": null,
      "outputs": [
        {
          "output_type": "display_data",
          "data": {
            "text/plain": [
              "<IPython.core.display.HTML object>"
            ],
            "text/html": [
              "\n",
              "     <input type=\"file\" id=\"files-d29d1ba1-a210-4a49-b411-db74b70f890b\" name=\"files[]\" multiple disabled\n",
              "        style=\"border:none\" />\n",
              "     <output id=\"result-d29d1ba1-a210-4a49-b411-db74b70f890b\">\n",
              "      Upload widget is only available when the cell has been executed in the\n",
              "      current browser session. Please rerun this cell to enable.\n",
              "      </output>\n",
              "      <script>// Copyright 2017 Google LLC\n",
              "//\n",
              "// Licensed under the Apache License, Version 2.0 (the \"License\");\n",
              "// you may not use this file except in compliance with the License.\n",
              "// You may obtain a copy of the License at\n",
              "//\n",
              "//      http://www.apache.org/licenses/LICENSE-2.0\n",
              "//\n",
              "// Unless required by applicable law or agreed to in writing, software\n",
              "// distributed under the License is distributed on an \"AS IS\" BASIS,\n",
              "// WITHOUT WARRANTIES OR CONDITIONS OF ANY KIND, either express or implied.\n",
              "// See the License for the specific language governing permissions and\n",
              "// limitations under the License.\n",
              "\n",
              "/**\n",
              " * @fileoverview Helpers for google.colab Python module.\n",
              " */\n",
              "(function(scope) {\n",
              "function span(text, styleAttributes = {}) {\n",
              "  const element = document.createElement('span');\n",
              "  element.textContent = text;\n",
              "  for (const key of Object.keys(styleAttributes)) {\n",
              "    element.style[key] = styleAttributes[key];\n",
              "  }\n",
              "  return element;\n",
              "}\n",
              "\n",
              "// Max number of bytes which will be uploaded at a time.\n",
              "const MAX_PAYLOAD_SIZE = 100 * 1024;\n",
              "\n",
              "function _uploadFiles(inputId, outputId) {\n",
              "  const steps = uploadFilesStep(inputId, outputId);\n",
              "  const outputElement = document.getElementById(outputId);\n",
              "  // Cache steps on the outputElement to make it available for the next call\n",
              "  // to uploadFilesContinue from Python.\n",
              "  outputElement.steps = steps;\n",
              "\n",
              "  return _uploadFilesContinue(outputId);\n",
              "}\n",
              "\n",
              "// This is roughly an async generator (not supported in the browser yet),\n",
              "// where there are multiple asynchronous steps and the Python side is going\n",
              "// to poll for completion of each step.\n",
              "// This uses a Promise to block the python side on completion of each step,\n",
              "// then passes the result of the previous step as the input to the next step.\n",
              "function _uploadFilesContinue(outputId) {\n",
              "  const outputElement = document.getElementById(outputId);\n",
              "  const steps = outputElement.steps;\n",
              "\n",
              "  const next = steps.next(outputElement.lastPromiseValue);\n",
              "  return Promise.resolve(next.value.promise).then((value) => {\n",
              "    // Cache the last promise value to make it available to the next\n",
              "    // step of the generator.\n",
              "    outputElement.lastPromiseValue = value;\n",
              "    return next.value.response;\n",
              "  });\n",
              "}\n",
              "\n",
              "/**\n",
              " * Generator function which is called between each async step of the upload\n",
              " * process.\n",
              " * @param {string} inputId Element ID of the input file picker element.\n",
              " * @param {string} outputId Element ID of the output display.\n",
              " * @return {!Iterable<!Object>} Iterable of next steps.\n",
              " */\n",
              "function* uploadFilesStep(inputId, outputId) {\n",
              "  const inputElement = document.getElementById(inputId);\n",
              "  inputElement.disabled = false;\n",
              "\n",
              "  const outputElement = document.getElementById(outputId);\n",
              "  outputElement.innerHTML = '';\n",
              "\n",
              "  const pickedPromise = new Promise((resolve) => {\n",
              "    inputElement.addEventListener('change', (e) => {\n",
              "      resolve(e.target.files);\n",
              "    });\n",
              "  });\n",
              "\n",
              "  const cancel = document.createElement('button');\n",
              "  inputElement.parentElement.appendChild(cancel);\n",
              "  cancel.textContent = 'Cancel upload';\n",
              "  const cancelPromise = new Promise((resolve) => {\n",
              "    cancel.onclick = () => {\n",
              "      resolve(null);\n",
              "    };\n",
              "  });\n",
              "\n",
              "  // Wait for the user to pick the files.\n",
              "  const files = yield {\n",
              "    promise: Promise.race([pickedPromise, cancelPromise]),\n",
              "    response: {\n",
              "      action: 'starting',\n",
              "    }\n",
              "  };\n",
              "\n",
              "  cancel.remove();\n",
              "\n",
              "  // Disable the input element since further picks are not allowed.\n",
              "  inputElement.disabled = true;\n",
              "\n",
              "  if (!files) {\n",
              "    return {\n",
              "      response: {\n",
              "        action: 'complete',\n",
              "      }\n",
              "    };\n",
              "  }\n",
              "\n",
              "  for (const file of files) {\n",
              "    const li = document.createElement('li');\n",
              "    li.append(span(file.name, {fontWeight: 'bold'}));\n",
              "    li.append(span(\n",
              "        `(${file.type || 'n/a'}) - ${file.size} bytes, ` +\n",
              "        `last modified: ${\n",
              "            file.lastModifiedDate ? file.lastModifiedDate.toLocaleDateString() :\n",
              "                                    'n/a'} - `));\n",
              "    const percent = span('0% done');\n",
              "    li.appendChild(percent);\n",
              "\n",
              "    outputElement.appendChild(li);\n",
              "\n",
              "    const fileDataPromise = new Promise((resolve) => {\n",
              "      const reader = new FileReader();\n",
              "      reader.onload = (e) => {\n",
              "        resolve(e.target.result);\n",
              "      };\n",
              "      reader.readAsArrayBuffer(file);\n",
              "    });\n",
              "    // Wait for the data to be ready.\n",
              "    let fileData = yield {\n",
              "      promise: fileDataPromise,\n",
              "      response: {\n",
              "        action: 'continue',\n",
              "      }\n",
              "    };\n",
              "\n",
              "    // Use a chunked sending to avoid message size limits. See b/62115660.\n",
              "    let position = 0;\n",
              "    do {\n",
              "      const length = Math.min(fileData.byteLength - position, MAX_PAYLOAD_SIZE);\n",
              "      const chunk = new Uint8Array(fileData, position, length);\n",
              "      position += length;\n",
              "\n",
              "      const base64 = btoa(String.fromCharCode.apply(null, chunk));\n",
              "      yield {\n",
              "        response: {\n",
              "          action: 'append',\n",
              "          file: file.name,\n",
              "          data: base64,\n",
              "        },\n",
              "      };\n",
              "\n",
              "      let percentDone = fileData.byteLength === 0 ?\n",
              "          100 :\n",
              "          Math.round((position / fileData.byteLength) * 100);\n",
              "      percent.textContent = `${percentDone}% done`;\n",
              "\n",
              "    } while (position < fileData.byteLength);\n",
              "  }\n",
              "\n",
              "  // All done.\n",
              "  yield {\n",
              "    response: {\n",
              "      action: 'complete',\n",
              "    }\n",
              "  };\n",
              "}\n",
              "\n",
              "scope.google = scope.google || {};\n",
              "scope.google.colab = scope.google.colab || {};\n",
              "scope.google.colab._files = {\n",
              "  _uploadFiles,\n",
              "  _uploadFilesContinue,\n",
              "};\n",
              "})(self);\n",
              "</script> "
            ]
          },
          "metadata": {}
        },
        {
          "output_type": "stream",
          "name": "stdout",
          "text": [
            "Saving kmeans_data.csv to kmeans_data.csv\n",
            "Berhasil membaca 150 data posisi sarang lebah.\n"
          ]
        }
      ]
    },
    {
      "cell_type": "markdown",
      "source": [
        "Para lebah tentunya dapat terbang melalui jalur garis lurus dari sebuah sarang ke sebuah tempat makan. Jarak yang ditempuh oleh para lebah adalah sebuah jarak garis lurus (jarak Euclid) antara dua titik. Pada ruang 2-dimensi, jarak garis lurus antara titik $A(x_1, y_1)$ dengan titik $B(x_2, y_2)$ adalah $|AB| = \\sqrt{(x_1-x_2)^2 + (y_1-y_2)^2}$. Misalnya, jika $A = (1,1)$ dan $B=(4,5)$, maka $|AB| = \\sqrt{(1-4)^2 + (1-5)^2} = \\sqrt{3^2 + 4^2} = 5$.\n",
        "\n",
        "Buatlah sebuah fungsi untuk menghitung jarak Euclid antara dua buah titik, $a$ dan $b$, dimana $a$ dan $b$ adalah array berisi 2 elemen $x$ dan $y$."
      ],
      "metadata": {
        "id": "fKN_plOhqfma"
      }
    },
    {
      "cell_type": "code",
      "source": [
        "# Definisikan fungsi euclidean disini:\n",
        "def euclidean(p1, p2): pass"
      ],
      "metadata": {
        "id": "HHpF4R8wsvf2"
      },
      "execution_count": null,
      "outputs": []
    },
    {
      "cell_type": "code",
      "source": [
        "# Contoh pemanggilan (harus menghasilkan nilai 5):\n",
        "print(euclidean([1,1], [4,5]))"
      ],
      "metadata": {
        "colab": {
          "base_uri": "https://localhost:8080/"
        },
        "id": "84nf-gtUs2MS",
        "outputId": "9e181e14-71c6-435b-e9db-03aa8bb03f74"
      },
      "execution_count": null,
      "outputs": [
        {
          "output_type": "stream",
          "name": "stdout",
          "text": [
            "5.0\n"
          ]
        }
      ]
    },
    {
      "cell_type": "markdown",
      "source": [
        "Jika posisi tempat makan telah ditentukan, tentunya agar paling optimal, para lebah akan mencari tempat makan yang jaraknya paling dekat dengan posisi sarang lebah tersebut. Buatlah sebuah fungsi yang akan menentukan, untuk setiap sarang lebah, tempat makan yang mana yang paling dekat dari sarang tersebut."
      ],
      "metadata": {
        "id": "Qjaw-J0fs-xz"
      }
    },
    {
      "cell_type": "code",
      "source": [
        "def assign_clusters(data, tempat_makan): pass"
      ],
      "metadata": {
        "id": "kVZ_IdkntzmP"
      },
      "execution_count": null,
      "outputs": []
    },
    {
      "cell_type": "code",
      "source": [
        "# contoh pemanggilan:\n",
        "# misalkan ditentukan posisi ketiga tempat makan sebagai berikut\n",
        "# Choose 3 initial centroids (manually picked from data for simplicity)\n",
        "tempat_makan =  [\n",
        "    [0, 0],\n",
        "    [-1, -1],\n",
        "    [2, -1]\n",
        "]"
      ],
      "metadata": {
        "id": "QgOn_Lgkt4Gq"
      },
      "execution_count": null,
      "outputs": []
    },
    {
      "cell_type": "code",
      "source": [
        "assignments = assign_clusters(data, tempat_makan)\n",
        "print(assignments)"
      ],
      "metadata": {
        "id": "8kQFOBm6uDGp"
      },
      "execution_count": null,
      "outputs": []
    },
    {
      "cell_type": "markdown",
      "source": [
        "Sebaliknya, Pak Andi juga menyadari bahwa, ketika kita sudah menentukan (*assignment*) sarang lebah yang mana saja yang telah dipilih untuk sebuah tempat makan (artinya lebah dari semua sarang tersebut harus pergi ke tempat makan yang ditentukan), maka kita dapat menghitung posisi yang** paling tepat** untuk tempat makan tersebut, sedemikian rupa sehingga total jarak dari semua sarang lebah tersebut ke tempat makan itu sekecil mungkin.\n",
        "Posisi paling tepat ini dapat dihitung dengan menggunakan konsep *centroid* (titik tengah) dari sekumpulan titik.\n",
        "\n",
        "Misalkan terdapat $m$ sarang lebah dengan koordinat masing-masing $(x_i, y_i), 1\\leq i\\leq m$. Maka posisi paling tepat untuk tempat makan bagi $m$ sarang tersebut adalah $(X, Y)$ dimana:\n",
        "\n",
        "\\begin{align*}\n",
        "X &= \\frac{1}{m}\\sum_{i=1}^m x_i \\\\\n",
        "Y &= \\frac{1}{m}\\sum_{i=1}^m y_i \\\\\n",
        "\\end{align*}\n",
        "\n",
        "Diberikan sebuah data *assignment* dari semua sarang lebah, buatlah sebuah fungsi yang menghitung ketiga posisi tempat makan yang paling ideal berdasarkan konsep *centroid* di atas."
      ],
      "metadata": {
        "id": "AgF7n4pzvYtZ"
      }
    },
    {
      "cell_type": "code",
      "source": [
        "def compute_new_centroids(data, assignments, k): pass"
      ],
      "metadata": {
        "id": "X2jScKf3xirL"
      },
      "execution_count": null,
      "outputs": []
    },
    {
      "cell_type": "code",
      "source": [
        "# Contoh pemanggilan:\n",
        "centroids = compute_new_centroids(data, assignments, 3)\n",
        "print(centroids)"
      ],
      "metadata": {
        "id": "_UkDwheUxm4d"
      },
      "execution_count": null,
      "outputs": []
    },
    {
      "cell_type": "markdown",
      "source": [
        "Apabila Anda telah menentukan sebuah assignment (penentuan posisi ketiga tempat makan), Anda dapat meng-evaluasi seberapa baik assignment tersebut dengan menghitung total kuadrat jarak (sum of squared errors/SSE) dari semua sarang lebah ke tempat makan yang ditentukan berdasarkan *assignment* tersebut. Dengan kata lain, nilai kebaikan dari sebuah *assignment* dirumuskan sebagai berikut:\n",
        "\\begin{align*}\n",
        "SSE = \\sum_{i=1}^N |A_i T(A_i)|^2\n",
        "\\end{align*}\n",
        "\n",
        "Dimana $A_i$ adalah sarang lebah ke-$i$, sedangkan $T(A_i)$ adalah tempat makan yang ditentukan untuk sarang $A_i$ berdasarkan *assignment* yang diberikan. Buatlah sebuah fungsi yang menghitung nilai SSE dari sebuah assignment."
      ],
      "metadata": {
        "id": "h01wKkL7yE-N"
      }
    },
    {
      "cell_type": "code",
      "source": [
        "def compute_sse(data, centroids, assignments): pass\n"
      ],
      "metadata": {
        "id": "98GuSr9HzcJQ"
      },
      "execution_count": null,
      "outputs": []
    },
    {
      "cell_type": "code",
      "source": [
        "# Contoh pemanggilan\n",
        "sse = compute_sse(data, centroids, assignments)\n",
        "print(sse)"
      ],
      "metadata": {
        "id": "qg6rvg9ezqRk"
      },
      "execution_count": null,
      "outputs": []
    },
    {
      "cell_type": "markdown",
      "source": [
        "Terakhir, Pak Andi menyadari bahwa kita dapat mencari mencari posisi tempat makan terbaik dengan menggunakan metode iteratif sebagai berikut:\n",
        "\n",
        "Pertama pilih 3 posisi tempat makan secara acak.\n",
        "\n",
        "Lakukan sebanyak jumlah iterasi tertentu (atau kriteria pemberhentian yang lain):\n",
        "1.   Hitung assignment dari semua sarang ke tempat makan terdekat\n",
        "2.   Hitung centroid baru dari assigment yang ada\n",
        "3.   Hitung SSE dari assignment dan centroid yang ada\n",
        "\n",
        "Idealnya, nilai SSE pada setiap iterasi akan turun terus, sampai konvergen ke sebuah nilai tertentu.\n",
        "Buatlah fungsi / kode program yang melakukan proses di atas, dengan kriteria pemberhentiannya adalah ketika SSE sudah mendekati kekonvergenan, yaitu dengan kondisi dimana selisih nilai SSE dari satu iterasi ke iterasi berikutnya sudah kurang dari 1. Jalankan fungsi/kode tersebut untuk menghitung ketiga posisi tempat makan optimal, jika diasumsikan posisi awal adalah seperti diberikan di atas.\n",
        "\n",
        "\n",
        "\n"
      ],
      "metadata": {
        "id": "4bulCcuzz37o"
      }
    },
    {
      "cell_type": "code",
      "source": [
        "k = 3\n",
        "centroids = [\n",
        "    [0, 0],\n",
        "    [-1, -1],\n",
        "    [2, -1]\n",
        "]\n",
        "\n",
        "prev_sse = float('inf')  # nilai awal SSE\n",
        "tolerance = 1  # stop jika perubahan nilai SSE sudah lebih kecil dari ini\n",
        "max_iterations = 100  # iterasi maksimum\n",
        "\n",
        "# isikan disini kode Anda"
      ],
      "metadata": {
        "id": "8czFqNQ43Qpj"
      },
      "execution_count": null,
      "outputs": []
    },
    {
      "cell_type": "code",
      "source": [
        "# Cetak lokasi ketiga tempat makan yang telah Anda hitung:"
      ],
      "metadata": {
        "id": "0HO9yPWV4dLg"
      },
      "execution_count": null,
      "outputs": []
    },
    {
      "cell_type": "code",
      "source": [],
      "metadata": {
        "id": "TBPH5w8g_tkB"
      },
      "execution_count": null,
      "outputs": []
    }
  ]
}